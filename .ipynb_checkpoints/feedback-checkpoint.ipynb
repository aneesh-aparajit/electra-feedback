{
 "cells": [
  {
   "cell_type": "markdown",
   "id": "587ca6e4",
   "metadata": {},
   "source": [
    "# <center>Feedback Prize - English Language Learning</center>"
   ]
  },
  {
   "cell_type": "markdown",
   "id": "aa660e41",
   "metadata": {},
   "source": [
    "# Imports"
   ]
  },
  {
   "cell_type": "code",
   "execution_count": 24,
   "id": "597c988f",
   "metadata": {},
   "outputs": [
    {
     "name": "stdout",
     "output_type": "stream",
     "text": [
      "The watermark extension is already loaded. To reload it, use:\n",
      "  %reload_ext watermark\n",
      "Author: Aneesh Aparajit G\n",
      "\n",
      "Python implementation: CPython\n",
      "Python version       : 3.9.13\n",
      "IPython version      : 7.28.0\n",
      "\n",
      "torch       : 2.0.0.dev20230114\n",
      "transformers: 4.25.1\n",
      "numpy       : 1.24.1\n",
      "pandas      : 1.5.3\n",
      "matplotlib  : 3.6.3\n",
      "seaborn     : 0.12.2\n",
      "\n"
     ]
    }
   ],
   "source": [
    "import torch\n",
    "import torch.nn as nn\n",
    "import torch.optim as optim\n",
    "from torch.utils.data import Dataset, DataLoader\n",
    "\n",
    "from transformers import get_linear_schedule_with_warmup\n",
    "from transformers import ElectraConfig, ElectraModel, ElectraTokenizerFast as ElectraTokenizer\n",
    "\n",
    "from sklearn.model_selection import train_test_split\n",
    "\n",
    "import numpy as np\n",
    "import pandas as pd\n",
    "import matplotlib.pyplot as plt\n",
    "import seaborn as sns\n",
    "\n",
    "from typing import List, Dict, Tuple, Optional\n",
    "from pprint import pprint\n",
    "from tqdm.auto import tqdm\n",
    "\n",
    "%config InlineBackend.figure_format='retina'\n",
    "\n",
    "%load_ext watermark\n",
    "%watermark -v -a \"Aneesh Aparajit G\" -p torch,transformers,numpy,pandas,matplotlib,seaborn"
   ]
  },
  {
   "cell_type": "markdown",
   "id": "3a47710e",
   "metadata": {},
   "source": [
    "# Data"
   ]
  },
  {
   "cell_type": "code",
   "execution_count": 2,
   "id": "1941df92",
   "metadata": {},
   "outputs": [
    {
     "data": {
      "text/html": [
       "<div>\n",
       "<style scoped>\n",
       "    .dataframe tbody tr th:only-of-type {\n",
       "        vertical-align: middle;\n",
       "    }\n",
       "\n",
       "    .dataframe tbody tr th {\n",
       "        vertical-align: top;\n",
       "    }\n",
       "\n",
       "    .dataframe thead th {\n",
       "        text-align: right;\n",
       "    }\n",
       "</style>\n",
       "<table border=\"1\" class=\"dataframe\">\n",
       "  <thead>\n",
       "    <tr style=\"text-align: right;\">\n",
       "      <th></th>\n",
       "      <th>text_id</th>\n",
       "      <th>full_text</th>\n",
       "      <th>cohesion</th>\n",
       "      <th>syntax</th>\n",
       "      <th>vocabulary</th>\n",
       "      <th>phraseology</th>\n",
       "      <th>grammar</th>\n",
       "      <th>conventions</th>\n",
       "    </tr>\n",
       "  </thead>\n",
       "  <tbody>\n",
       "    <tr>\n",
       "      <th>3408</th>\n",
       "      <td>EA1B7D05FE81</td>\n",
       "      <td>The most enjoyable way to spend time outdoors ...</td>\n",
       "      <td>4.0</td>\n",
       "      <td>3.0</td>\n",
       "      <td>3.5</td>\n",
       "      <td>3.5</td>\n",
       "      <td>3.5</td>\n",
       "      <td>3.0</td>\n",
       "    </tr>\n",
       "    <tr>\n",
       "      <th>1841</th>\n",
       "      <td>8A9E12ADD91C</td>\n",
       "      <td>Should the aouthor Ralph Waldo Emerson, is rig...</td>\n",
       "      <td>3.5</td>\n",
       "      <td>3.0</td>\n",
       "      <td>2.5</td>\n",
       "      <td>2.5</td>\n",
       "      <td>3.0</td>\n",
       "      <td>2.5</td>\n",
       "    </tr>\n",
       "    <tr>\n",
       "      <th>759</th>\n",
       "      <td>3A9630FC8DFA</td>\n",
       "      <td>What's next, what do you want to be when you g...</td>\n",
       "      <td>2.5</td>\n",
       "      <td>2.5</td>\n",
       "      <td>3.0</td>\n",
       "      <td>3.5</td>\n",
       "      <td>2.5</td>\n",
       "      <td>2.0</td>\n",
       "    </tr>\n",
       "    <tr>\n",
       "      <th>3638</th>\n",
       "      <td>F4FC2D64C127</td>\n",
       "      <td>Inactive Times and Its Benefits\\n\\nShould peop...</td>\n",
       "      <td>3.0</td>\n",
       "      <td>4.0</td>\n",
       "      <td>3.5</td>\n",
       "      <td>4.0</td>\n",
       "      <td>3.5</td>\n",
       "      <td>4.0</td>\n",
       "    </tr>\n",
       "    <tr>\n",
       "      <th>937</th>\n",
       "      <td>477B00F899E2</td>\n",
       "      <td>Student-designed Projects Encourage Learning\\n...</td>\n",
       "      <td>4.5</td>\n",
       "      <td>4.5</td>\n",
       "      <td>5.0</td>\n",
       "      <td>5.0</td>\n",
       "      <td>5.0</td>\n",
       "      <td>5.0</td>\n",
       "    </tr>\n",
       "    <tr>\n",
       "      <th>2755</th>\n",
       "      <td>CA4941643D09</td>\n",
       "      <td>Thomas Jefferson wrote to never to be idle and...</td>\n",
       "      <td>2.5</td>\n",
       "      <td>2.0</td>\n",
       "      <td>3.0</td>\n",
       "      <td>2.5</td>\n",
       "      <td>3.0</td>\n",
       "      <td>3.0</td>\n",
       "    </tr>\n",
       "    <tr>\n",
       "      <th>3525</th>\n",
       "      <td>EFDC396D9F7A</td>\n",
       "      <td>Date 3/12/2020\\n\\nTo: The school\\n\\nFrom:Gener...</td>\n",
       "      <td>2.5</td>\n",
       "      <td>2.5</td>\n",
       "      <td>3.0</td>\n",
       "      <td>3.0</td>\n",
       "      <td>2.5</td>\n",
       "      <td>2.0</td>\n",
       "    </tr>\n",
       "    <tr>\n",
       "      <th>1311</th>\n",
       "      <td>64AE19BBA321</td>\n",
       "      <td>A problem is a chance for you to do your best....</td>\n",
       "      <td>3.5</td>\n",
       "      <td>3.5</td>\n",
       "      <td>2.5</td>\n",
       "      <td>3.0</td>\n",
       "      <td>3.5</td>\n",
       "      <td>3.5</td>\n",
       "    </tr>\n",
       "    <tr>\n",
       "      <th>2403</th>\n",
       "      <td>B2B6C25D967A</td>\n",
       "      <td>I always say attitude is something that make b...</td>\n",
       "      <td>2.0</td>\n",
       "      <td>2.5</td>\n",
       "      <td>2.5</td>\n",
       "      <td>2.0</td>\n",
       "      <td>2.5</td>\n",
       "      <td>3.0</td>\n",
       "    </tr>\n",
       "    <tr>\n",
       "      <th>45</th>\n",
       "      <td>03D00899C901</td>\n",
       "      <td>I think yes, that if you have a positive attit...</td>\n",
       "      <td>2.5</td>\n",
       "      <td>2.5</td>\n",
       "      <td>3.5</td>\n",
       "      <td>3.0</td>\n",
       "      <td>3.5</td>\n",
       "      <td>2.5</td>\n",
       "    </tr>\n",
       "  </tbody>\n",
       "</table>\n",
       "</div>"
      ],
      "text/plain": [
       "           text_id                                          full_text  \\\n",
       "3408  EA1B7D05FE81  The most enjoyable way to spend time outdoors ...   \n",
       "1841  8A9E12ADD91C  Should the aouthor Ralph Waldo Emerson, is rig...   \n",
       "759   3A9630FC8DFA  What's next, what do you want to be when you g...   \n",
       "3638  F4FC2D64C127  Inactive Times and Its Benefits\\n\\nShould peop...   \n",
       "937   477B00F899E2  Student-designed Projects Encourage Learning\\n...   \n",
       "2755  CA4941643D09  Thomas Jefferson wrote to never to be idle and...   \n",
       "3525  EFDC396D9F7A  Date 3/12/2020\\n\\nTo: The school\\n\\nFrom:Gener...   \n",
       "1311  64AE19BBA321  A problem is a chance for you to do your best....   \n",
       "2403  B2B6C25D967A  I always say attitude is something that make b...   \n",
       "45    03D00899C901  I think yes, that if you have a positive attit...   \n",
       "\n",
       "      cohesion  syntax  vocabulary  phraseology  grammar  conventions  \n",
       "3408       4.0     3.0         3.5          3.5      3.5          3.0  \n",
       "1841       3.5     3.0         2.5          2.5      3.0          2.5  \n",
       "759        2.5     2.5         3.0          3.5      2.5          2.0  \n",
       "3638       3.0     4.0         3.5          4.0      3.5          4.0  \n",
       "937        4.5     4.5         5.0          5.0      5.0          5.0  \n",
       "2755       2.5     2.0         3.0          2.5      3.0          3.0  \n",
       "3525       2.5     2.5         3.0          3.0      2.5          2.0  \n",
       "1311       3.5     3.5         2.5          3.0      3.5          3.5  \n",
       "2403       2.0     2.5         2.5          2.0      2.5          3.0  \n",
       "45         2.5     2.5         3.5          3.0      3.5          2.5  "
      ]
     },
     "execution_count": 2,
     "metadata": {},
     "output_type": "execute_result"
    }
   ],
   "source": [
    "df = pd.read_csv('./feedback-prize-english-language-learning/train.csv')\n",
    "df.sample(10)"
   ]
  },
  {
   "cell_type": "code",
   "execution_count": 3,
   "id": "884691f7",
   "metadata": {},
   "outputs": [
    {
     "data": {
      "text/plain": [
       "text_id        0\n",
       "full_text      0\n",
       "cohesion       0\n",
       "syntax         0\n",
       "vocabulary     0\n",
       "phraseology    0\n",
       "grammar        0\n",
       "conventions    0\n",
       "dtype: int64"
      ]
     },
     "execution_count": 3,
     "metadata": {},
     "output_type": "execute_result"
    }
   ],
   "source": [
    "df.isna().sum()"
   ]
  },
  {
   "cell_type": "code",
   "execution_count": 4,
   "id": "e9284591",
   "metadata": {},
   "outputs": [
    {
     "data": {
      "image/png": "[encoded data removed]",
      "text/plain": [
       "<Figure size 1080x576 with 6 Axes>"
      ]
     },
     "metadata": {
      "image/png": {
       "height": 567,
       "width": 1072
      },
      "needs_background": "light"
     },
     "output_type": "display_data"
    }
   ],
   "source": [
    "fig, axs = plt.subplots(2, 3, figsize=(15, 8))\n",
    "\n",
    "for ix, ax in enumerate(axs.flatten()):\n",
    "    sns.histplot(data=df, x=df.columns[2+ix], ax=ax)\n",
    "    ax.set_title(df.columns[2+ix] + \" : \"+ str(df[df.columns[2+ix]].skew()), fontdict={\n",
    "        'size': 15\n",
    "    })\n",
    "    \n",
    "\n",
    "plt.tight_layout()\n",
    "plt.show()"
   ]
  },
  {
   "cell_type": "markdown",
   "id": "ab5e0e03",
   "metadata": {},
   "source": [
    "# Config"
   ]
  },
  {
   "cell_type": "code",
   "execution_count": 28,
   "id": "bb235637",
   "metadata": {},
   "outputs": [],
   "source": [
    "class Config:\n",
    "    training_file = './feedback-prize-english-language-learning/train.csv'\n",
    "    test_file = './feedback-prize-english-language-learning/test.csv'\n",
    "    submission_file = './feedback-prize-english-language-learning/sample_submission.csv'\n",
    "    max_len = 128\n",
    "    train_batch_size = 16\n",
    "    valid_batch_size = 8\n",
    "    base_model = \"google/electra-base-discriminator\"\n",
    "    epochs = 10\n",
    "\n",
    "    tokenizer = ElectraTokenizer.from_pretrained(base_model)\n",
    "    device = torch.device(\"cuda\" if torch.has_cuda else \"mps\" if torch.has_mps else \"cpu\")"
   ]
  },
  {
   "cell_type": "code",
   "execution_count": 29,
   "id": "221f5f16",
   "metadata": {},
   "outputs": [
    {
     "name": "stdout",
     "output_type": "stream",
     "text": [
      "{'attention_mask': [1, 1, 1, 1, 1, 1, 1, 1, 1, 1, 1, 1, 1],\n",
      " 'input_ids': [101,\n",
      "               7592,\n",
      "               1010,\n",
      "               2026,\n",
      "               2171,\n",
      "               2003,\n",
      "               2019,\n",
      "               10285,\n",
      "               2232,\n",
      "               1012,\n",
      "               1012,\n",
      "               1012,\n",
      "               102],\n",
      " 'token_type_ids': [0, 0, 0, 0, 0, 0, 0, 0, 0, 0, 0, 0, 0]}\n"
     ]
    }
   ],
   "source": [
    "config = Config()\n",
    "tokens = config.tokenizer(\"Hello, my name is aneesh...\")\n",
    "pprint(tokens)"
   ]
  },
  {
   "cell_type": "code",
   "execution_count": 7,
   "id": "89327b6f",
   "metadata": {},
   "outputs": [
    {
     "data": {
      "text/plain": [
       "'[CLS] hello, my name is aneesh... [SEP]'"
      ]
     },
     "execution_count": 7,
     "metadata": {},
     "output_type": "execute_result"
    }
   ],
   "source": [
    "config.tokenizer.decode(tokens['input_ids'])"
   ]
  },
  {
   "cell_type": "code",
   "execution_count": 8,
   "id": "a14ac527",
   "metadata": {},
   "outputs": [
    {
     "name": "stdout",
     "output_type": "stream",
     "text": [
      "['[CLS]', 'hello', ',', 'my', 'name', 'is', 'an', '##ees', '##h', '.', '.', '.', '[SEP]']\n"
     ]
    }
   ],
   "source": [
    "print(config.tokenizer.convert_ids_to_tokens(tokens['input_ids']))"
   ]
  },
  {
   "cell_type": "markdown",
   "id": "13d30745",
   "metadata": {},
   "source": [
    "# Datasets and DataLoaders"
   ]
  },
  {
   "cell_type": "code",
   "execution_count": 9,
   "id": "941e7f58",
   "metadata": {},
   "outputs": [],
   "source": [
    "class FeedbackDataset(Dataset):\n",
    "    def __init__(self, texts: List[str], scores: List[List[float]]) -> None:\n",
    "        super(FeedbackDataset, self).__init__()\n",
    "        self.texts = texts\n",
    "        self.scores = scores\n",
    "    \n",
    "    def __len__(self) -> int:\n",
    "        return len(self.texts)\n",
    "    \n",
    "    def __getitem__(self, ix: int) -> Dict[str, torch.Tensor]:\n",
    "        text = self.texts[ix]\n",
    "        score = torch.tensor(self.scores[ix], dtype=torch.float16)\n",
    "        \n",
    "        inputs = config.tokenizer(\n",
    "            text=text, \n",
    "            add_special_tokens=True, \n",
    "            padding='max_length', \n",
    "            truncation=True, \n",
    "            max_length=config.max_len,  \n",
    "            return_tensors=\"pt\"\n",
    "        )\n",
    "        \n",
    "        inputs = {k: v[0] for k, v in inputs.items()}\n",
    "        \n",
    "        inputs['scores'] = score\n",
    "        \n",
    "        return inputs"
   ]
  },
  {
   "cell_type": "code",
   "execution_count": 10,
   "id": "92e7c9ea",
   "metadata": {},
   "outputs": [],
   "source": [
    "X_train, X_test, y_train, y_test = train_test_split(\n",
    "    df['full_text'], \n",
    "    df.drop(['text_id', 'full_text'], axis=1), \n",
    "    random_state=69, \n",
    "    test_size=0.1\n",
    ")\n",
    "\n",
    "X_train, y_train = X_train.to_list(), y_train.values\n",
    "X_test, y_test = X_test.to_list(), y_test.values"
   ]
  },
  {
   "cell_type": "code",
   "execution_count": 11,
   "id": "2e3eb565",
   "metadata": {},
   "outputs": [],
   "source": [
    "dataset = FeedbackDataset(texts=X_train, scores=y_train)"
   ]
  },
  {
   "cell_type": "code",
   "execution_count": 12,
   "id": "ffb621c1",
   "metadata": {},
   "outputs": [
    {
     "data": {
      "text/plain": [
       "{'input_ids': tensor([  101,  2005,  3076,  2008,  3046,  2000,  4619,  2220,  1012,  2003,\n",
       "          1037,  2204,  2801,  2000,  4619,  2220,  2065,  2027,  2024,  3241,\n",
       "          2175,  2000,  2267,  2030,  2065,  2027,  3046,  2000,  2147,  1012,\n",
       "          3076,  2342,  2000,  2022,  2583,  2000,  2202,  2465,  2041,  1997,\n",
       "          1996,  2082,  1012,  2070,  3076,  2097,  2342,  2000,  2202,  2465,\n",
       "          1999,  2621,  2082,  1012,  2005,  2070,  3076,  2003,  2062,  3697,\n",
       "          2000,  4619,  2220,  2138,  2027,  2342,  2147,  2005,  2393,  1999,\n",
       "         17156,  3506,  1012,  2005,  2191,  2023,  2825,  3076,  2442,  2342,\n",
       "          2000,  2022,  1025,  5646,  1010,  7374,  2618,  1010,  1998, 12379,\n",
       "          1012,  3076,  2008,  3046,  2000,  4619,  2220,  2027,  2442,  2342,\n",
       "          2000,  2022,  5646,  1012,  2027,  2342,  2000,  2022,  5646,  2005,\n",
       "          2022,  2583,  2000,  2627,  2035,  2037,  2465,  2019, 13869,  1012,\n",
       "          1998,  2742,  2003,  1025,  1000,  1045,  2031,   102]),\n",
       " 'token_type_ids': tensor([0, 0, 0, 0, 0, 0, 0, 0, 0, 0, 0, 0, 0, 0, 0, 0, 0, 0, 0, 0, 0, 0, 0, 0,\n",
       "         0, 0, 0, 0, 0, 0, 0, 0, 0, 0, 0, 0, 0, 0, 0, 0, 0, 0, 0, 0, 0, 0, 0, 0,\n",
       "         0, 0, 0, 0, 0, 0, 0, 0, 0, 0, 0, 0, 0, 0, 0, 0, 0, 0, 0, 0, 0, 0, 0, 0,\n",
       "         0, 0, 0, 0, 0, 0, 0, 0, 0, 0, 0, 0, 0, 0, 0, 0, 0, 0, 0, 0, 0, 0, 0, 0,\n",
       "         0, 0, 0, 0, 0, 0, 0, 0, 0, 0, 0, 0, 0, 0, 0, 0, 0, 0, 0, 0, 0, 0, 0, 0,\n",
       "         0, 0, 0, 0, 0, 0, 0, 0]),\n",
       " 'attention_mask': tensor([1, 1, 1, 1, 1, 1, 1, 1, 1, 1, 1, 1, 1, 1, 1, 1, 1, 1, 1, 1, 1, 1, 1, 1,\n",
       "         1, 1, 1, 1, 1, 1, 1, 1, 1, 1, 1, 1, 1, 1, 1, 1, 1, 1, 1, 1, 1, 1, 1, 1,\n",
       "         1, 1, 1, 1, 1, 1, 1, 1, 1, 1, 1, 1, 1, 1, 1, 1, 1, 1, 1, 1, 1, 1, 1, 1,\n",
       "         1, 1, 1, 1, 1, 1, 1, 1, 1, 1, 1, 1, 1, 1, 1, 1, 1, 1, 1, 1, 1, 1, 1, 1,\n",
       "         1, 1, 1, 1, 1, 1, 1, 1, 1, 1, 1, 1, 1, 1, 1, 1, 1, 1, 1, 1, 1, 1, 1, 1,\n",
       "         1, 1, 1, 1, 1, 1, 1, 1]),\n",
       " 'scores': tensor([3.5000, 3.5000, 3.5000, 2.5000, 3.0000, 2.5000], dtype=torch.float16)}"
      ]
     },
     "execution_count": 12,
     "metadata": {},
     "output_type": "execute_result"
    }
   ],
   "source": [
    "dataset[0]"
   ]
  },
  {
   "cell_type": "code",
   "execution_count": 13,
   "id": "d9147d12",
   "metadata": {},
   "outputs": [],
   "source": [
    "train_dataset = FeedbackDataset(texts=X_train, scores=y_train)\n",
    "test_dataset = FeedbackDataset(texts=X_test, scores=y_test)\n",
    "\n",
    "train_loader = DataLoader(train_dataset, batch_size=config.train_batch_size, shuffle=True)\n",
    "valid_loader = DataLoader(test_dataset, batch_size=config.valid_batch_size)"
   ]
  },
  {
   "cell_type": "code",
   "execution_count": 14,
   "id": "98863d71",
   "metadata": {},
   "outputs": [
    {
     "data": {
      "text/plain": [
       "{'input_ids': torch.Size([16, 128]),\n",
       " 'token_type_ids': torch.Size([16, 128]),\n",
       " 'attention_mask': torch.Size([16, 128]),\n",
       " 'scores': torch.Size([16, 6])}"
      ]
     },
     "execution_count": 14,
     "metadata": {},
     "output_type": "execute_result"
    }
   ],
   "source": [
    "batch = next(iter(train_loader))\n",
    "{k:v.shape for k, v in batch.items()}"
   ]
  },
  {
   "cell_type": "code",
   "execution_count": 15,
   "id": "1ff992c2",
   "metadata": {},
   "outputs": [
    {
     "data": {
      "text/plain": [
       "torch.Size([16, 128])"
      ]
     },
     "execution_count": 15,
     "metadata": {},
     "output_type": "execute_result"
    }
   ],
   "source": [
    "batch['input_ids'].shape"
   ]
  },
  {
   "attachments": {},
   "cell_type": "markdown",
   "id": "008243b5",
   "metadata": {},
   "source": [
    "# Models\n",
    "\n",
    "## ELECTRA: Pre-training Text Encoders as Discriminators Rather Than Generators.\n",
    "\n",
    "![electra-pretraining](https://production-media.paperswithcode.com/methods/Screen_Shot_2020-06-01_at_10.21.19_PM.png)"
   ]
  },
  {
   "cell_type": "code",
   "execution_count": 16,
   "id": "4ae84bc7",
   "metadata": {},
   "outputs": [],
   "source": [
    "class FeedbackModel(nn.Module):\n",
    "    def __init__(self) -> None:\n",
    "        super(FeedbackModel, self).__init__()\n",
    "        self.electra = ElectraModel.from_pretrained(config.base_model)\n",
    "        self.linear = nn.Linear(768, 6)\n",
    "    \n",
    "    def forward(self, input_ids: torch.Tensor, \n",
    "                attention_mask: torch.Tensor, \n",
    "                token_type_ids: torch.Tensor, \n",
    "                scores: Optional[torch.Tensor] = None) -> Tuple[torch.Tensor, Optional[torch.Tensor]]:\n",
    "        \n",
    "        x = self.electra(\n",
    "            input_ids=input_ids, \n",
    "            attention_mask=attention_mask, \n",
    "            token_type_ids=token_type_ids, \n",
    "            return_dict=True, \n",
    "        )['last_hidden_state']\n",
    "        x = torch.mean(x, dim=1)\n",
    "        out = self.linear(x)\n",
    "        \n",
    "        if scores is not None:\n",
    "            loss_fn = nn.MSELoss()\n",
    "            loss = loss_fn(out, scores)\n",
    "            return out, loss\n",
    "        \n",
    "        return loss, None"
   ]
  },
  {
   "cell_type": "code",
   "execution_count": 17,
   "id": "8698fb8d",
   "metadata": {},
   "outputs": [
    {
     "name": "stderr",
     "output_type": "stream",
     "text": [
      "Some weights of the model checkpoint at google/electra-base-discriminator were not used when initializing ElectraModel: ['discriminator_predictions.dense.bias', 'discriminator_predictions.dense_prediction.bias', 'discriminator_predictions.dense_prediction.weight', 'discriminator_predictions.dense.weight']\n",
      "- This IS expected if you are initializing ElectraModel from the checkpoint of a model trained on another task or with another architecture (e.g. initializing a BertForSequenceClassification model from a BertForPreTraining model).\n",
      "- This IS NOT expected if you are initializing ElectraModel from the checkpoint of a model that you expect to be exactly identical (initializing a BertForSequenceClassification model from a BertForSequenceClassification model).\n"
     ]
    }
   ],
   "source": [
    "model = FeedbackModel()"
   ]
  },
  {
   "cell_type": "code",
   "execution_count": 18,
   "id": "ac9101df",
   "metadata": {},
   "outputs": [
    {
     "data": {
      "text/plain": [
       "{'input_ids': torch.Size([16, 128]),\n",
       " 'token_type_ids': torch.Size([16, 128]),\n",
       " 'attention_mask': torch.Size([16, 128]),\n",
       " 'scores': torch.Size([16, 6])}"
      ]
     },
     "execution_count": 18,
     "metadata": {},
     "output_type": "execute_result"
    }
   ],
   "source": [
    "{k:v.shape for k, v in batch.items()}"
   ]
  },
  {
   "cell_type": "code",
   "execution_count": 19,
   "id": "a100470b",
   "metadata": {},
   "outputs": [
    {
     "data": {
      "text/plain": [
       "(torch.Size([16, 6]), tensor(10.0431, grad_fn=<MseLossBackward0>))"
      ]
     },
     "execution_count": 19,
     "metadata": {},
     "output_type": "execute_result"
    }
   ],
   "source": [
    "out, loss = model.forward(**batch)\n",
    "out.shape, loss"
   ]
  },
  {
   "cell_type": "markdown",
   "id": "7dbf36da",
   "metadata": {},
   "source": [
    "# Training"
   ]
  },
  {
   "cell_type": "code",
   "execution_count": 20,
   "id": "929e7364",
   "metadata": {},
   "outputs": [
    {
     "name": "stderr",
     "output_type": "stream",
     "text": [
      "Some weights of the model checkpoint at google/electra-base-discriminator were not used when initializing ElectraModel: ['discriminator_predictions.dense.bias', 'discriminator_predictions.dense_prediction.bias', 'discriminator_predictions.dense_prediction.weight', 'discriminator_predictions.dense.weight']\n",
      "- This IS expected if you are initializing ElectraModel from the checkpoint of a model trained on another task or with another architecture (e.g. initializing a BertForSequenceClassification model from a BertForPreTraining model).\n",
      "- This IS NOT expected if you are initializing ElectraModel from the checkpoint of a model that you expect to be exactly identical (initializing a BertForSequenceClassification model from a BertForSequenceClassification model).\n"
     ]
    }
   ],
   "source": [
    "model = FeedbackModel()\n",
    "optimizer = optim.Adam(model.parameters(), lr=3e-2)\n",
    "\n",
    "num_train_steps = len(train_loader) * config.train_batch_size\n",
    "\n",
    "scheduler = get_linear_schedule_with_warmup(\n",
    "    optimizer=optimizer, \n",
    "    num_warmup_steps=0, \n",
    "    num_training_steps=num_train_steps\n",
    ")"
   ]
  },
  {
   "cell_type": "code",
   "execution_count": 21,
   "id": "29bd6963",
   "metadata": {},
   "outputs": [
    {
     "data": {
      "text/plain": [
       "torch.optim.adam.Adam"
      ]
     },
     "execution_count": 21,
     "metadata": {},
     "output_type": "execute_result"
    }
   ],
   "source": [
    "type(optimizer)"
   ]
  },
  {
   "cell_type": "code",
   "execution_count": 22,
   "id": "d47cf291",
   "metadata": {},
   "outputs": [
    {
     "data": {
      "text/plain": [
       "torch.optim.lr_scheduler.LambdaLR"
      ]
     },
     "execution_count": 22,
     "metadata": {},
     "output_type": "execute_result"
    }
   ],
   "source": [
    "type(scheduler)"
   ]
  },
  {
   "cell_type": "code",
   "execution_count": 32,
   "id": "5db15174",
   "metadata": {},
   "outputs": [],
   "source": [
    "class Trainer:\n",
    "    def __init__(self, model: nn.Module, optimizer: optim, scheduler: optim, epochs: int) -> None:\n",
    "        self.device = torch.device(\n",
    "            \"cuda\" if torch.has_cuda else \"mps\" if torch.has_mps else \"cpu\"\n",
    "        )\n",
    "        \n",
    "        self.model = model.to(self.device)\n",
    "        self.optimizer = optimizer\n",
    "        self.scheduler = scheduler\n",
    "        self.epochs = epochs\n",
    "        \n",
    "        self.train_loader = None\n",
    "        self.valid_loader = None\n",
    "        \n",
    "        self.best_model = {\n",
    "            'loss': np.inf, \n",
    "            'weights': None\n",
    "        }\n",
    "        \n",
    "        self.history = {\n",
    "            'epoch': [],\n",
    "            'train_loss': [], \n",
    "            'valid_loss': []\n",
    "        }\n",
    "    \n",
    "    \n",
    "    def train_one_step(self, batch: Dict[str, torch.Tensor]) -> torch.Tensor:\n",
    "        for k, v in batch.items():\n",
    "            batch[k] = v.to(self.device)\n",
    "        \n",
    "        yHat, loss = self.model.forward(**batch)\n",
    "        self.optimizer.zero_grad()\n",
    "        loss.backward()\n",
    "        self.optimizer.step()\n",
    "        self.scheduler.step()\n",
    "        return loss\n",
    "    \n",
    "    \n",
    "    def train_one_epoch(self, data_loader: DataLoader) -> torch.Tensor:\n",
    "        self.model.train()\n",
    "        epoch_loss = 0.0\n",
    "        for batch in tqdm(self.train_loader):\n",
    "            loss = self.train_one_step(batch)\n",
    "            epoch_loss += loss.item()\n",
    "        return epoch_loss / len(self.train_loader)\n",
    "        \n",
    "    \n",
    "    def validate(self, data_loader: DataLoader) -> torch.Tensor:\n",
    "        self.model.eval()\n",
    "        total_loss = 0.0\n",
    "        with torch.no_grad():\n",
    "            for batch in data_loader:\n",
    "                for k, v in batch.items():\n",
    "                    batch[k] = v.to(self.device)\n",
    "                \n",
    "                yHat, loss = self.model.forward(**batch)\n",
    "                total_loss += loss.item()\n",
    "        \n",
    "        return total_loss / len(data_loader)\n",
    "    \n",
    "    \n",
    "    def predict(self, input_ids: torch.Tensor, \n",
    "                token_type_ids: torch.Tensor, \n",
    "                attention_mask: torch.Tensor) -> np.ndarray:\n",
    "        yHat, _ = self.model.forward(input_ids=input_ids, \n",
    "                                     token_type_ids=token_type_ids, \n",
    "                                     attention_mask=attention_mask)\n",
    "        return yHat.detach().cpu().numpy()\n",
    "    \n",
    "    \n",
    "    def fit(self, train_loader: DataLoader, valid_loader: Optional[DataLoader] = None) -> None:\n",
    "        \n",
    "        if self.train_loader is None and train_loader is None:\n",
    "            raise Exception(\"Train Loader cannot be None.\")\n",
    "        \n",
    "        self.train_loader = train_loader\n",
    "        self.valid_loader = valid_loader\n",
    "        \n",
    "        for epoch in range(self.epochs):\n",
    "            print(f'Training on Epoch #[{epoch + 1}/{self.epochs}]')\n",
    "            \n",
    "            train_loss = self.train_one_epoch(self.train_loader)\n",
    "            if self.valid_loader:\n",
    "                valid_loss = self.validate(self.valid_loader)\n",
    "            \n",
    "            self.history['epoch'].append(epoch)\n",
    "            self.history['train_loss'].append(train_loss)\n",
    "            self.history['valid_loss'].append(valid_loss)\n",
    "            \n",
    "            print(f'''[Results after Epoch {epoch+1}]:-\n",
    "    - train_loss: {self.history['train_loss'][-1]}\n",
    "    - valid_loss: {self.history['valid_loss'][-1]}''')"
   ]
  },
  {
   "cell_type": "code",
   "execution_count": 33,
   "id": "6540177e",
   "metadata": {},
   "outputs": [],
   "source": [
    "trainer = Trainer(\n",
    "    model=model, \n",
    "    optimizer=optimizer, \n",
    "    scheduler=scheduler, \n",
    "    epochs=config.epochs\n",
    ")"
   ]
  },
  {
   "cell_type": "code",
   "execution_count": null,
   "id": "6c3904e7",
   "metadata": {},
   "outputs": [
    {
     "name": "stdout",
     "output_type": "stream",
     "text": [
      "Training on Epoch #[1/10]\n",
      "huggingface/tokenizers: The current process just got forked, after parallelism has already been used. Disabling parallelism to avoid deadlocks...\n",
      "To disable this warning, you can either:\n",
      "\t- Avoid using `tokenizers` before the fork if possible\n",
      "\t- Explicitly set the environment variable TOKENIZERS_PARALLELISM=(true | false)\n"
     ]
    },
    {
     "data": {
      "application/vnd.jupyter.widget-view+json": {
       "model_id": "002ee2ca881e47959cbec93201afe83e",
       "version_major": 2,
       "version_minor": 0
      },
      "text/plain": [
       "  0%|          | 0/220 [00:00<?, ?it/s]"
      ]
     },
     "metadata": {},
     "output_type": "display_data"
    }
   ],
   "source": [
    "trainer.fit(train_loader=train_loader, valid_loader=valid_loader)"
   ]
  }
 ],
 "metadata": {
  "kernelspec": {
   "display_name": "Python 3.9 (pytorch)",
   "language": "python",
   "name": "pytorch"
  },
  "language_info": {
   "codemirror_mode": {
    "name": "ipython",
    "version": 3
   },
   "file_extension": ".py",
   "mimetype": "text/x-python",
   "name": "python",
   "nbconvert_exporter": "python",
   "pygments_lexer": "ipython3",
   "version": "3.9.13"
  },
  "toc": {
   "base_numbering": 1,
   "nav_menu": {},
   "number_sections": true,
   "sideBar": true,
   "skip_h1_title": false,
   "title_cell": "Table of Contents",
   "title_sidebar": "Contents",
   "toc_cell": false,
   "toc_position": {},
   "toc_section_display": true,
   "toc_window_display": false
  }
 },
 "nbformat": 4,
 "nbformat_minor": 5
}
